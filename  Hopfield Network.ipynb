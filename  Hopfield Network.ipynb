{
 "cells": [
  {
   "cell_type": "markdown",
   "id": "74cf46de",
   "metadata": {},
   "source": [
    "Модель сети Хопфилда в синхронном режиме с дискретным состоянием и дескретным временем"
   ]
  },
  {
   "cell_type": "code",
   "execution_count": 774,
   "id": "dec8760d",
   "metadata": {},
   "outputs": [],
   "source": [
    "import pandas as pd\n",
    "import matplotlib\n",
    "import matplotlib.pyplot as plt\n",
    "import numpy as np\n",
    "from random import random, randint, choice\n",
    "from PIL import Image\n",
    "from copy import deepcopy\n",
    "from tqdm import tqdm"
   ]
  },
  {
   "cell_type": "code",
   "execution_count": 671,
   "id": "f81408c4",
   "metadata": {
    "scrolled": false
   },
   "outputs": [],
   "source": [
    "# data = pd.read_csv('data.csv')\n",
    "# label = None\n",
    "# while label in [None,0,1,2,3,4,5,6,7,8,9]:\n",
    "#     num = randint(0,9999)\n",
    "#     label, ex = np.array(data.iloc[num])[0], np.array(data.iloc[num])[1:]\n",
    "# bipolar = np.vectorize(lambda x: 255 if x > 127 else 0)\n",
    "# ex = bipolar(ex).reshape(28,28)\n",
    "# plt.title(str(label) + \",\" + str(num))\n",
    "# plt.imshow(ex, cmap='gray')\n",
    "#-------------------------------------------\n",
    "# im = Image.fromarray(ex.astype(np.uint8))\n",
    "# im.save(\"Numbers/1.png\")"
   ]
  },
  {
   "cell_type": "code",
   "execution_count": 768,
   "id": "1452f884",
   "metadata": {},
   "outputs": [
    {
     "data": {
      "image/png": "[encoded data removed]",
      "text/plain": [
       "<Figure size 900x300 with 10 Axes>"
      ]
     },
     "metadata": {},
     "output_type": "display_data"
    }
   ],
   "source": [
    "bipolar = np.vectorize(lambda x: 1 if x == 255 else -1)\n",
    "data = []\n",
    "for i in range(10):\n",
    "    img = Image.open(f'Numbers/{i}.png')\n",
    "    num = np.asarray(img)\n",
    "    data.append(bipolar(num.reshape(784,1)))\n",
    "plt.rcParams[\"figure.figsize\"] = (9,3)\n",
    "fig, axs = plt.subplots(2, 5)\n",
    "for i in range(10):\n",
    "    axs[i//5, i%5].imshow(data[i].reshape(28,28), cmap = 'gray')"
   ]
  },
  {
   "cell_type": "code",
   "execution_count": 771,
   "id": "4ddcb6a4",
   "metadata": {},
   "outputs": [],
   "source": [
    "class HopfieldNetwork:\n",
    "    def __init__(self, data):\n",
    "        self.data = data\n",
    "        self.weights = np.zeros((784,784))\n",
    "        \n",
    "    def train_projections(self):\n",
    "        for i in range(10):\n",
    "            up = (self.weights@self.data[i] - self.data[i])@(self.weights@self.data[i] - self.data[i]).T\n",
    "            self.weights += up/(self.data[i].T@self.data[i] - self.data[i].T@self.weights@self.data[i])\n",
    "    \n",
    "    def train_delta_projections(self, mu = 0.7):\n",
    "        for _ in range(10):\n",
    "            for i in range(10):\n",
    "                self.weights += (mu/10)*((self.data[i] - self.weights@self.data[i])@self.data[i].T)\n",
    "            \n",
    "            \n",
    "    def test(self, img):\n",
    "        rez = self.weights@img\n",
    "        sign = np.vectorize(lambda x: -1 if x<0 else 1)\n",
    "        return sign(rez)"
   ]
  },
  {
   "cell_type": "code",
   "execution_count": 772,
   "id": "a0612558",
   "metadata": {
    "scrolled": false
   },
   "outputs": [
    {
     "data": {
      "image/png": "[encoded data removed]",
      "text/plain": [
       "<Figure size 900x300 with 10 Axes>"
      ]
     },
     "metadata": {},
     "output_type": "display_data"
    }
   ],
   "source": [
    "N = HopfieldNetwork(data)\n",
    "N.train_projections()\n",
    "fig, axs = plt.subplots(2, 5)\n",
    "plt.rcParams[\"figure.figsize\"] = (9,3)\n",
    "for i in range(10):\n",
    "    axs[i//5, i%5].imshow(N.test(data[i]).reshape(28,28), cmap = 'gray')"
   ]
  },
  {
   "cell_type": "code",
   "execution_count": 775,
   "id": "71c7fab3",
   "metadata": {},
   "outputs": [],
   "source": [
    "def noise(self, img, level = 0.1):\n",
    "    add_noise = np.vectorize(lambda x: x if random()>level else choice([1,-1]))\n",
    "plt.imshow(noise())"
   ]
  },
  {
   "cell_type": "code",
   "execution_count": null,
   "id": "ecb2e142",
   "metadata": {},
   "outputs": [],
   "source": []
  },
  {
   "cell_type": "code",
   "execution_count": null,
   "id": "15a6b067",
   "metadata": {},
   "outputs": [],
   "source": []
  },
  {
   "cell_type": "code",
   "execution_count": null,
   "id": "4aff6486",
   "metadata": {},
   "outputs": [],
   "source": []
  }
 ],
 "metadata": {
  "kernelspec": {
   "display_name": "Python 3 (ipykernel)",
   "language": "python",
   "name": "python3"
  },
  "language_info": {
   "codemirror_mode": {
    "name": "ipython",
    "version": 3
   },
   "file_extension": ".py",
   "mimetype": "text/x-python",
   "name": "python",
   "nbconvert_exporter": "python",
   "pygments_lexer": "ipython3",
   "version": "3.9.13"
  }
 },
 "nbformat": 4,
 "nbformat_minor": 5
}
